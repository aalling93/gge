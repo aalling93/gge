{
 "cells": [
  {
   "cell_type": "code",
   "execution_count": 1,
   "metadata": {},
   "outputs": [],
   "source": [
    "import gge"
   ]
  },
  {
   "cell_type": "code",
   "execution_count": 2,
   "metadata": {},
   "outputs": [
    {
     "data": {
      "text/html": [
       "<p>To authorize access needed by Earth Engine, open the following\n",
       "        URL in a web browser and follow the instructions:</p>\n",
       "        <p><a href=https://code.earthengine.google.com/client-auth?scopes=https%3A//www.googleapis.com/auth/earthengine%20https%3A//www.googleapis.com/auth/cloud-platform%20https%3A//www.googleapis.com/auth/devstorage.full_control&request_id=BLT6jrHaT4j5BFXzBlSNqgZZCQWQWTgGgJ2GMOvPiAU&tc=MCDHZkcyPgLaiJHYc9m_PpZFAtH4vK7hjiiedGj20ro&cc=GQ0tGi5Cp5cyQcrQwP2izMYjPIKOzV1v1ZV1-wZTSXg>https://code.earthengine.google.com/client-auth?scopes=https%3A//www.googleapis.com/auth/earthengine%20https%3A//www.googleapis.com/auth/cloud-platform%20https%3A//www.googleapis.com/auth/devstorage.full_control&request_id=BLT6jrHaT4j5BFXzBlSNqgZZCQWQWTgGgJ2GMOvPiAU&tc=MCDHZkcyPgLaiJHYc9m_PpZFAtH4vK7hjiiedGj20ro&cc=GQ0tGi5Cp5cyQcrQwP2izMYjPIKOzV1v1ZV1-wZTSXg</a></p>\n",
       "        <p>The authorization workflow will generate a code, which you should paste in the box below.</p>\n",
       "        "
      ],
      "text/plain": [
       "<IPython.core.display.HTML object>"
      ]
     },
     "metadata": {},
     "output_type": "display_data"
    },
    {
     "name": "stdout",
     "output_type": "stream",
     "text": [
      "\n",
      "Successfully saved authorization token.\n"
     ]
    }
   ],
   "source": [
    "import ee\n",
    "ee.Authenticate()"
   ]
  },
  {
   "cell_type": "code",
   "execution_count": 3,
   "metadata": {},
   "outputs": [],
   "source": [
    "from gge import sensors"
   ]
  },
  {
   "cell_type": "code",
   "execution_count": 5,
   "metadata": {},
   "outputs": [],
   "source": [
    "area = (12.1, 55.60, 12.14, 55.62)  # Define the area, can also give .shp or .geojson file...\n",
    "area = \"/Users/kaaso/Documents/phd/coding/gge/data/location/eigil/melange_roi.shp\"\n",
    "time_range = ('2024-05-01', '2024-06-10') "
   ]
  },
  {
   "cell_type": "code",
   "execution_count": 9,
   "metadata": {},
   "outputs": [],
   "source": [
    "\n",
    "landsat = sensors.Landsat()\n",
    "landsat.allow_upload = True"
   ]
  },
  {
   "cell_type": "code",
   "execution_count": 10,
   "metadata": {},
   "outputs": [],
   "source": [
    "\n",
    "landsat.area = area\n",
    "landsat.time_range = time_range\n",
    "\n"
   ]
  },
  {
   "cell_type": "code",
   "execution_count": 11,
   "metadata": {},
   "outputs": [
    {
     "name": "stdout",
     "output_type": "stream",
     "text": [
      "No images found in collection LANDSAT/LM01/C02/T1 for the given filters.\n",
      "No images found in collection LANDSAT/LM02/C02/T1 for the given filters.\n",
      "No images found in collection LANDSAT/LM03/C02/T1 for the given filters.\n",
      "No images found in collection LANDSAT/LT04/C02/T1_L2 for the given filters.\n",
      "No images found in collection LANDSAT/LT05/C02/T1_L2 for the given filters.\n",
      "No images found in collection LANDSAT/LE07/C02/T1_L2 for the given filters.\n"
     ]
    },
    {
     "name": "stderr",
     "output_type": "stream",
     "text": [
      "\u001b[31;21m2024-07-17 14:21:26,314 - root - ERROR - Error converting image LC08_230012_20240507: Image.sampleRectangle: Too many pixels in sample; must be <= 262144. Got 1991421. (landsat.py:60)\u001b[0m\n",
      "\u001b[38;21m2024-07-17 14:21:26,315 - root - INFO - Trying to upload to google drive (landsat.py:63)\u001b[0m\n",
      "Task WVNDK5BFG4IHL3S2Z3QR7HSB is running: |           | 01:46 elapsed\n"
     ]
    },
    {
     "ename": "KeyboardInterrupt",
     "evalue": "",
     "output_type": "error",
     "traceback": [
      "\u001b[0;31m---------------------------------------------------------------------------\u001b[0m",
      "\u001b[0;31mHttpError\u001b[0m                                 Traceback (most recent call last)",
      "File \u001b[0;32m/opt/homebrew/Caskroom/miniforge/base/envs/gge_test/lib/python3.10/site-packages/ee/data.py:402\u001b[0m, in \u001b[0;36m_execute_cloud_call\u001b[0;34m(call, num_retries)\u001b[0m\n\u001b[1;32m    401\u001b[0m \u001b[38;5;28;01mtry\u001b[39;00m:\n\u001b[0;32m--> 402\u001b[0m   \u001b[38;5;28;01mreturn\u001b[39;00m \u001b[43mcall\u001b[49m\u001b[38;5;241;43m.\u001b[39;49m\u001b[43mexecute\u001b[49m\u001b[43m(\u001b[49m\u001b[43mnum_retries\u001b[49m\u001b[38;5;241;43m=\u001b[39;49m\u001b[43mnum_retries\u001b[49m\u001b[43m)\u001b[49m\n\u001b[1;32m    403\u001b[0m \u001b[38;5;28;01mexcept\u001b[39;00m googleapiclient\u001b[38;5;241m.\u001b[39merrors\u001b[38;5;241m.\u001b[39mHttpError \u001b[38;5;28;01mas\u001b[39;00m e:\n",
      "File \u001b[0;32m/opt/homebrew/Caskroom/miniforge/base/envs/gge_test/lib/python3.10/site-packages/googleapiclient/_helpers.py:130\u001b[0m, in \u001b[0;36mpositional.<locals>.positional_decorator.<locals>.positional_wrapper\u001b[0;34m(*args, **kwargs)\u001b[0m\n\u001b[1;32m    129\u001b[0m         logger\u001b[38;5;241m.\u001b[39mwarning(message)\n\u001b[0;32m--> 130\u001b[0m \u001b[38;5;28;01mreturn\u001b[39;00m \u001b[43mwrapped\u001b[49m\u001b[43m(\u001b[49m\u001b[38;5;241;43m*\u001b[39;49m\u001b[43margs\u001b[49m\u001b[43m,\u001b[49m\u001b[43m \u001b[49m\u001b[38;5;241;43m*\u001b[39;49m\u001b[38;5;241;43m*\u001b[39;49m\u001b[43mkwargs\u001b[49m\u001b[43m)\u001b[49m\n",
      "File \u001b[0;32m/opt/homebrew/Caskroom/miniforge/base/envs/gge_test/lib/python3.10/site-packages/googleapiclient/http.py:938\u001b[0m, in \u001b[0;36mHttpRequest.execute\u001b[0;34m(self, http, num_retries)\u001b[0m\n\u001b[1;32m    937\u001b[0m \u001b[38;5;28;01mif\u001b[39;00m resp\u001b[38;5;241m.\u001b[39mstatus \u001b[38;5;241m>\u001b[39m\u001b[38;5;241m=\u001b[39m \u001b[38;5;241m300\u001b[39m:\n\u001b[0;32m--> 938\u001b[0m     \u001b[38;5;28;01mraise\u001b[39;00m HttpError(resp, content, uri\u001b[38;5;241m=\u001b[39m\u001b[38;5;28mself\u001b[39m\u001b[38;5;241m.\u001b[39muri)\n\u001b[1;32m    939\u001b[0m \u001b[38;5;28;01mreturn\u001b[39;00m \u001b[38;5;28mself\u001b[39m\u001b[38;5;241m.\u001b[39mpostproc(resp, content)\n",
      "\u001b[0;31mHttpError\u001b[0m: <HttpError 400 when requesting https://earthengine.googleapis.com/v1/projects/earthengine-legacy/value:compute?prettyPrint=false&alt=json returned \"Image.sampleRectangle: Too many pixels in sample; must be <= 262144. Got 1991421.\". Details: \"Image.sampleRectangle: Too many pixels in sample; must be <= 262144. Got 1991421.\">",
      "\nDuring handling of the above exception, another exception occurred:\n",
      "\u001b[0;31mEEException\u001b[0m                               Traceback (most recent call last)",
      "File \u001b[0;32m~/Documents/phd/coding/gge/src/gge/sensors/landsat.py:57\u001b[0m, in \u001b[0;36mLandsat.download_data\u001b[0;34m(self)\u001b[0m\n\u001b[1;32m     56\u001b[0m         image \u001b[38;5;241m=\u001b[39m ee\u001b[38;5;241m.\u001b[39mImage(image_list\u001b[38;5;241m.\u001b[39mget(i))\n\u001b[0;32m---> 57\u001b[0m         \u001b[38;5;28mself\u001b[39m\u001b[38;5;241m.\u001b[39mimages_data\u001b[38;5;241m.\u001b[39mappend(\u001b[38;5;28;43mself\u001b[39;49m\u001b[38;5;241;43m.\u001b[39;49m\u001b[43mconvert_data\u001b[49m\u001b[43m(\u001b[49m\u001b[43mimage\u001b[49m\u001b[43m)\u001b[49m)\n\u001b[1;32m     59\u001b[0m \u001b[38;5;28;01mexcept\u001b[39;00m \u001b[38;5;167;01mException\u001b[39;00m \u001b[38;5;28;01mas\u001b[39;00m e:\n",
      "File \u001b[0;32m~/Documents/phd/coding/gge/src/gge/sensors/landsat.py:82\u001b[0m, in \u001b[0;36mLandsat.convert_data\u001b[0;34m(self, image)\u001b[0m\n\u001b[1;32m     81\u001b[0m     sample \u001b[38;5;241m=\u001b[39m image\u001b[38;5;241m.\u001b[39mselect(band)\u001b[38;5;241m.\u001b[39msampleRectangle(region\u001b[38;5;241m=\u001b[39m\u001b[38;5;28mself\u001b[39m\u001b[38;5;241m.\u001b[39marea, defaultValue\u001b[38;5;241m=\u001b[39m\u001b[38;5;241m0\u001b[39m)\n\u001b[0;32m---> 82\u001b[0m     band_data[band] \u001b[38;5;241m=\u001b[39m np\u001b[38;5;241m.\u001b[39marray(\u001b[43msample\u001b[49m\u001b[38;5;241;43m.\u001b[39;49m\u001b[43mget\u001b[49m\u001b[43m(\u001b[49m\u001b[43mband\u001b[49m\u001b[43m)\u001b[49m\u001b[38;5;241;43m.\u001b[39;49m\u001b[43mgetInfo\u001b[49m\u001b[43m(\u001b[49m\u001b[43m)\u001b[49m)\n\u001b[1;32m     83\u001b[0m \u001b[38;5;28;01mreturn\u001b[39;00m {\u001b[38;5;124m\"\u001b[39m\u001b[38;5;124mimage_bands\u001b[39m\u001b[38;5;124m\"\u001b[39m: band_data, \u001b[38;5;124m\"\u001b[39m\u001b[38;5;124mtime\u001b[39m\u001b[38;5;124m\"\u001b[39m: image\u001b[38;5;241m.\u001b[39mdate()\u001b[38;5;241m.\u001b[39mformat()\u001b[38;5;241m.\u001b[39mgetInfo(), \u001b[38;5;124m\"\u001b[39m\u001b[38;5;124mmetadata\u001b[39m\u001b[38;5;124m\"\u001b[39m: image\u001b[38;5;241m.\u001b[39mgetInfo()[\u001b[38;5;124m\"\u001b[39m\u001b[38;5;124mproperties\u001b[39m\u001b[38;5;124m\"\u001b[39m]}\n",
      "File \u001b[0;32m/opt/homebrew/Caskroom/miniforge/base/envs/gge_test/lib/python3.10/site-packages/ee/computedobject.py:107\u001b[0m, in \u001b[0;36mComputedObject.getInfo\u001b[0;34m(self)\u001b[0m\n\u001b[1;32m    102\u001b[0m \u001b[38;5;250m\u001b[39m\u001b[38;5;124;03m\"\"\"Fetch and return information about this object.\u001b[39;00m\n\u001b[1;32m    103\u001b[0m \n\u001b[1;32m    104\u001b[0m \u001b[38;5;124;03mReturns:\u001b[39;00m\n\u001b[1;32m    105\u001b[0m \u001b[38;5;124;03m  The object can evaluate to anything.\u001b[39;00m\n\u001b[1;32m    106\u001b[0m \u001b[38;5;124;03m\"\"\"\u001b[39;00m\n\u001b[0;32m--> 107\u001b[0m \u001b[38;5;28;01mreturn\u001b[39;00m \u001b[43mdata\u001b[49m\u001b[38;5;241;43m.\u001b[39;49m\u001b[43mcomputeValue\u001b[49m\u001b[43m(\u001b[49m\u001b[38;5;28;43mself\u001b[39;49m\u001b[43m)\u001b[49m\n",
      "File \u001b[0;32m/opt/homebrew/Caskroom/miniforge/base/envs/gge_test/lib/python3.10/site-packages/ee/data.py:1108\u001b[0m, in \u001b[0;36mcomputeValue\u001b[0;34m(obj)\u001b[0m\n\u001b[1;32m   1106\u001b[0m _maybe_populate_workload_tag(body)\n\u001b[0;32m-> 1108\u001b[0m \u001b[38;5;28;01mreturn\u001b[39;00m \u001b[43m_execute_cloud_call\u001b[49m\u001b[43m(\u001b[49m\n\u001b[1;32m   1109\u001b[0m \u001b[43m    \u001b[49m\u001b[43m_get_cloud_projects\u001b[49m\u001b[43m(\u001b[49m\u001b[43m)\u001b[49m\n\u001b[1;32m   1110\u001b[0m \u001b[43m    \u001b[49m\u001b[38;5;241;43m.\u001b[39;49m\u001b[43mvalue\u001b[49m\u001b[43m(\u001b[49m\u001b[43m)\u001b[49m\n\u001b[1;32m   1111\u001b[0m \u001b[43m    \u001b[49m\u001b[38;5;241;43m.\u001b[39;49m\u001b[43mcompute\u001b[49m\u001b[43m(\u001b[49m\u001b[43mbody\u001b[49m\u001b[38;5;241;43m=\u001b[39;49m\u001b[43mbody\u001b[49m\u001b[43m,\u001b[49m\u001b[43m \u001b[49m\u001b[43mproject\u001b[49m\u001b[38;5;241;43m=\u001b[39;49m\u001b[43m_get_projects_path\u001b[49m\u001b[43m(\u001b[49m\u001b[43m)\u001b[49m\u001b[43m,\u001b[49m\u001b[43m \u001b[49m\u001b[43mprettyPrint\u001b[49m\u001b[38;5;241;43m=\u001b[39;49m\u001b[38;5;28;43;01mFalse\u001b[39;49;00m\u001b[43m)\u001b[49m\n\u001b[1;32m   1112\u001b[0m \u001b[43m\u001b[49m\u001b[43m)\u001b[49m[\u001b[38;5;124m'\u001b[39m\u001b[38;5;124mresult\u001b[39m\u001b[38;5;124m'\u001b[39m]\n",
      "File \u001b[0;32m/opt/homebrew/Caskroom/miniforge/base/envs/gge_test/lib/python3.10/site-packages/ee/data.py:404\u001b[0m, in \u001b[0;36m_execute_cloud_call\u001b[0;34m(call, num_retries)\u001b[0m\n\u001b[1;32m    403\u001b[0m \u001b[38;5;28;01mexcept\u001b[39;00m googleapiclient\u001b[38;5;241m.\u001b[39merrors\u001b[38;5;241m.\u001b[39mHttpError \u001b[38;5;28;01mas\u001b[39;00m e:\n\u001b[0;32m--> 404\u001b[0m   \u001b[38;5;28;01mraise\u001b[39;00m _translate_cloud_exception(e)\n",
      "\u001b[0;31mEEException\u001b[0m: Image.sampleRectangle: Too many pixels in sample; must be <= 262144. Got 1991421.",
      "\nDuring handling of the above exception, another exception occurred:\n",
      "\u001b[0;31mKeyboardInterrupt\u001b[0m                         Traceback (most recent call last)",
      "Cell \u001b[0;32mIn[11], line 1\u001b[0m\n\u001b[0;32m----> 1\u001b[0m \u001b[43mlandsat\u001b[49m\u001b[38;5;241;43m.\u001b[39;49m\u001b[43mdownload_data\u001b[49m\u001b[43m(\u001b[49m\u001b[43m)\u001b[49m\n",
      "File \u001b[0;32m~/Documents/phd/coding/gge/src/gge/util/exception_handler.py:8\u001b[0m, in \u001b[0;36mtiming_decorator.<locals>.wrapper\u001b[0;34m(*args, **kwargs)\u001b[0m\n\u001b[1;32m      6\u001b[0m \u001b[38;5;28;01mdef\u001b[39;00m \u001b[38;5;21mwrapper\u001b[39m(\u001b[38;5;241m*\u001b[39margs, \u001b[38;5;241m*\u001b[39m\u001b[38;5;241m*\u001b[39mkwargs):\n\u001b[1;32m      7\u001b[0m     start_time \u001b[38;5;241m=\u001b[39m time\u001b[38;5;241m.\u001b[39mtime()\n\u001b[0;32m----> 8\u001b[0m     result \u001b[38;5;241m=\u001b[39m \u001b[43mfunc\u001b[49m\u001b[43m(\u001b[49m\u001b[38;5;241;43m*\u001b[39;49m\u001b[43margs\u001b[49m\u001b[43m,\u001b[49m\u001b[43m \u001b[49m\u001b[38;5;241;43m*\u001b[39;49m\u001b[38;5;241;43m*\u001b[39;49m\u001b[43mkwargs\u001b[49m\u001b[43m)\u001b[49m\n\u001b[1;32m      9\u001b[0m     end_time \u001b[38;5;241m=\u001b[39m time\u001b[38;5;241m.\u001b[39mtime()\n\u001b[1;32m     10\u001b[0m     logging\u001b[38;5;241m.\u001b[39minfo(\n\u001b[1;32m     11\u001b[0m         \u001b[38;5;124mf\u001b[39m\u001b[38;5;124m\"\u001b[39m\u001b[38;5;132;01m{\u001b[39;00mfunc\u001b[38;5;241m.\u001b[39m\u001b[38;5;18m__name__\u001b[39m\u001b[38;5;132;01m}\u001b[39;00m\u001b[38;5;124m executed in \u001b[39m\u001b[38;5;132;01m{\u001b[39;00mend_time\u001b[38;5;250m \u001b[39m\u001b[38;5;241m-\u001b[39m\u001b[38;5;250m \u001b[39mstart_time\u001b[38;5;132;01m:\u001b[39;00m\u001b[38;5;124m.3f\u001b[39m\u001b[38;5;132;01m}\u001b[39;00m\u001b[38;5;124m seconds.\u001b[39m\u001b[38;5;124m\"\u001b[39m\n\u001b[1;32m     12\u001b[0m     )\n",
      "File \u001b[0;32m~/Documents/phd/coding/gge/src/gge/sensors/landsat.py:69\u001b[0m, in \u001b[0;36mLandsat.download_data\u001b[0;34m(self)\u001b[0m\n\u001b[1;32m     67\u001b[0m                 now \u001b[38;5;241m=\u001b[39m datetime\u001b[38;5;241m.\u001b[39mnow()\n\u001b[1;32m     68\u001b[0m                 task_id \u001b[38;5;241m=\u001b[39m \u001b[38;5;124mf\u001b[39m\u001b[38;5;124m\"\u001b[39m\u001b[38;5;132;01m{\u001b[39;00mnow\u001b[38;5;241m.\u001b[39mstrftime(\u001b[38;5;124m'\u001b[39m\u001b[38;5;124m%\u001b[39m\u001b[38;5;124mY\u001b[39m\u001b[38;5;124m%\u001b[39m\u001b[38;5;124mm\u001b[39m\u001b[38;5;132;01m%d\u001b[39;00m\u001b[38;5;124mT\u001b[39m\u001b[38;5;124m%\u001b[39m\u001b[38;5;124mH\u001b[39m\u001b[38;5;124m%\u001b[39m\u001b[38;5;124mM\u001b[39m\u001b[38;5;124m'\u001b[39m)\u001b[38;5;132;01m}\u001b[39;00m\u001b[38;5;124m\"\u001b[39m\n\u001b[0;32m---> 69\u001b[0m                 \u001b[38;5;28;43mself\u001b[39;49m\u001b[38;5;241;43m.\u001b[39;49m\u001b[43mupload2gdrive\u001b[49m\u001b[43m(\u001b[49m\u001b[43mimage\u001b[49m\u001b[38;5;241;43m=\u001b[39;49m\u001b[43mimage\u001b[49m\u001b[43m,\u001b[49m\u001b[43m \u001b[49m\u001b[43msatellite\u001b[49m\u001b[38;5;241;43m=\u001b[39;49m\u001b[38;5;28;43mstr\u001b[39;49m\u001b[43m(\u001b[49m\u001b[38;5;28;43mself\u001b[39;49m\u001b[38;5;241;43m.\u001b[39;49m\u001b[43msatelliteSensors\u001b[49m\u001b[43m)\u001b[49m\u001b[43m,\u001b[49m\u001b[43m \u001b[49m\u001b[43mtask_id\u001b[49m\u001b[38;5;241;43m=\u001b[39;49m\u001b[43mtask_id\u001b[49m\u001b[43m)\u001b[49m\n\u001b[1;32m     71\u001b[0m                 \u001b[38;5;66;03m# \u001b[39;00m\n\u001b[1;32m     72\u001b[0m \n\u001b[1;32m     73\u001b[0m \u001b[38;5;28;01melse\u001b[39;00m:\n\u001b[1;32m     74\u001b[0m     \u001b[38;5;28mself\u001b[39m\u001b[38;5;241m.\u001b[39mlogger\u001b[38;5;241m.\u001b[39minfo(\u001b[38;5;124mf\u001b[39m\u001b[38;5;124m\"\u001b[39m\u001b[38;5;124mNo images found in collection \u001b[39m\u001b[38;5;132;01m{\u001b[39;00mcollection_id\u001b[38;5;132;01m}\u001b[39;00m\u001b[38;5;124m for the given filters.\u001b[39m\u001b[38;5;124m\"\u001b[39m)\n",
      "File \u001b[0;32m~/Documents/phd/coding/gge/src/gge/util/exception_handler.py:32\u001b[0m, in \u001b[0;36mexception_handler.<locals>.decorator.<locals>.wrapper\u001b[0;34m(*args, **kwargs)\u001b[0m\n\u001b[1;32m     30\u001b[0m \u001b[38;5;28;01mdef\u001b[39;00m \u001b[38;5;21mwrapper\u001b[39m(\u001b[38;5;241m*\u001b[39margs, \u001b[38;5;241m*\u001b[39m\u001b[38;5;241m*\u001b[39mkwargs):\n\u001b[1;32m     31\u001b[0m     \u001b[38;5;28;01mtry\u001b[39;00m:\n\u001b[0;32m---> 32\u001b[0m         \u001b[38;5;28;01mreturn\u001b[39;00m \u001b[43mfunc\u001b[49m\u001b[43m(\u001b[49m\u001b[38;5;241;43m*\u001b[39;49m\u001b[43margs\u001b[49m\u001b[43m,\u001b[49m\u001b[43m \u001b[49m\u001b[38;5;241;43m*\u001b[39;49m\u001b[38;5;241;43m*\u001b[39;49m\u001b[43mkwargs\u001b[49m\u001b[43m)\u001b[49m\n\u001b[1;32m     33\u001b[0m     \u001b[38;5;28;01mexcept\u001b[39;00m \u001b[38;5;167;01mException\u001b[39;00m \u001b[38;5;28;01mas\u001b[39;00m e:\n\u001b[1;32m     34\u001b[0m         logging\u001b[38;5;241m.\u001b[39merror(\u001b[38;5;124mf\u001b[39m\u001b[38;5;124m\"\u001b[39m\u001b[38;5;124mAn error occurred in \u001b[39m\u001b[38;5;132;01m{\u001b[39;00mfunc\u001b[38;5;241m.\u001b[39m\u001b[38;5;18m__name__\u001b[39m\u001b[38;5;132;01m}\u001b[39;00m\u001b[38;5;124m: \u001b[39m\u001b[38;5;132;01m{\u001b[39;00m\u001b[38;5;28mstr\u001b[39m(e)\u001b[38;5;132;01m}\u001b[39;00m\u001b[38;5;124m\"\u001b[39m)\n",
      "File \u001b[0;32m~/Documents/phd/coding/gge/src/gge/sensors/SatelliteData.py:184\u001b[0m, in \u001b[0;36mSatelliteData.upload2gdrive\u001b[0;34m(self, image, satellite, task_id)\u001b[0m\n\u001b[1;32m    172\u001b[0m task \u001b[38;5;241m=\u001b[39m ee\u001b[38;5;241m.\u001b[39mbatch\u001b[38;5;241m.\u001b[39mExport\u001b[38;5;241m.\u001b[39mimage\u001b[38;5;241m.\u001b[39mtoDrive(\n\u001b[1;32m    173\u001b[0m     image\u001b[38;5;241m=\u001b[39mimage,\n\u001b[1;32m    174\u001b[0m     description\u001b[38;5;241m=\u001b[39m\u001b[38;5;124mf\u001b[39m\u001b[38;5;124m\"\u001b[39m\u001b[38;5;132;01m{\u001b[39;00msatellite\u001b[38;5;132;01m}\u001b[39;00m\u001b[38;5;124m_ID\u001b[39m\u001b[38;5;132;01m{\u001b[39;00mtask_id\u001b[38;5;132;01m}\u001b[39;00m\u001b[38;5;124m\"\u001b[39m,\n\u001b[0;32m   (...)\u001b[0m\n\u001b[1;32m    181\u001b[0m     fileFormat\u001b[38;5;241m=\u001b[39m\u001b[38;5;124m\"\u001b[39m\u001b[38;5;124mGeoTIFF\u001b[39m\u001b[38;5;124m\"\u001b[39m,\n\u001b[1;32m    182\u001b[0m )\n\u001b[1;32m    183\u001b[0m task\u001b[38;5;241m.\u001b[39mstart()\n\u001b[0;32m--> 184\u001b[0m \u001b[38;5;28;43mself\u001b[39;49m\u001b[38;5;241;43m.\u001b[39;49m\u001b[43mwait_for_task\u001b[49m\u001b[43m(\u001b[49m\u001b[43mtask\u001b[49m\u001b[43m)\u001b[49m\n",
      "File \u001b[0;32m~/Documents/phd/coding/gge/src/gge/util/exception_handler.py:32\u001b[0m, in \u001b[0;36mexception_handler.<locals>.decorator.<locals>.wrapper\u001b[0;34m(*args, **kwargs)\u001b[0m\n\u001b[1;32m     30\u001b[0m \u001b[38;5;28;01mdef\u001b[39;00m \u001b[38;5;21mwrapper\u001b[39m(\u001b[38;5;241m*\u001b[39margs, \u001b[38;5;241m*\u001b[39m\u001b[38;5;241m*\u001b[39mkwargs):\n\u001b[1;32m     31\u001b[0m     \u001b[38;5;28;01mtry\u001b[39;00m:\n\u001b[0;32m---> 32\u001b[0m         \u001b[38;5;28;01mreturn\u001b[39;00m \u001b[43mfunc\u001b[49m\u001b[43m(\u001b[49m\u001b[38;5;241;43m*\u001b[39;49m\u001b[43margs\u001b[49m\u001b[43m,\u001b[49m\u001b[43m \u001b[49m\u001b[38;5;241;43m*\u001b[39;49m\u001b[38;5;241;43m*\u001b[39;49m\u001b[43mkwargs\u001b[49m\u001b[43m)\u001b[49m\n\u001b[1;32m     33\u001b[0m     \u001b[38;5;28;01mexcept\u001b[39;00m \u001b[38;5;167;01mException\u001b[39;00m \u001b[38;5;28;01mas\u001b[39;00m e:\n\u001b[1;32m     34\u001b[0m         logging\u001b[38;5;241m.\u001b[39merror(\u001b[38;5;124mf\u001b[39m\u001b[38;5;124m\"\u001b[39m\u001b[38;5;124mAn error occurred in \u001b[39m\u001b[38;5;132;01m{\u001b[39;00mfunc\u001b[38;5;241m.\u001b[39m\u001b[38;5;18m__name__\u001b[39m\u001b[38;5;132;01m}\u001b[39;00m\u001b[38;5;124m: \u001b[39m\u001b[38;5;132;01m{\u001b[39;00m\u001b[38;5;28mstr\u001b[39m(e)\u001b[38;5;132;01m}\u001b[39;00m\u001b[38;5;124m\"\u001b[39m)\n",
      "File \u001b[0;32m~/Documents/phd/coding/gge/src/gge/sensors/SatelliteData.py:255\u001b[0m, in \u001b[0;36mSatelliteData.wait_for_task\u001b[0;34m(self, task)\u001b[0m\n\u001b[1;32m    253\u001b[0m \u001b[38;5;28;01mwhile\u001b[39;00m task\u001b[38;5;241m.\u001b[39mactive():\n\u001b[1;32m    254\u001b[0m     pbar\u001b[38;5;241m.\u001b[39mset_description(\u001b[38;5;124mf\u001b[39m\u001b[38;5;124m\"\u001b[39m\u001b[38;5;124mTask \u001b[39m\u001b[38;5;132;01m{\u001b[39;00mtask\u001b[38;5;241m.\u001b[39mid\u001b[38;5;132;01m}\u001b[39;00m\u001b[38;5;124m is running\u001b[39m\u001b[38;5;124m\"\u001b[39m)\n\u001b[0;32m--> 255\u001b[0m     \u001b[43mtime\u001b[49m\u001b[38;5;241;43m.\u001b[39;49m\u001b[43msleep\u001b[49m\u001b[43m(\u001b[49m\u001b[38;5;241;43m30\u001b[39;49m\u001b[43m)\u001b[49m\n\u001b[1;32m    256\u001b[0m task_status \u001b[38;5;241m=\u001b[39m task\u001b[38;5;241m.\u001b[39mstatus()\n\u001b[1;32m    257\u001b[0m \u001b[38;5;28mself\u001b[39m\u001b[38;5;241m.\u001b[39mlogger\u001b[38;5;241m.\u001b[39minfo(\u001b[38;5;124mf\u001b[39m\u001b[38;5;124m\"\u001b[39m\u001b[38;5;124mTask \u001b[39m\u001b[38;5;132;01m{\u001b[39;00mtask\u001b[38;5;241m.\u001b[39mid\u001b[38;5;132;01m}\u001b[39;00m\u001b[38;5;124m completed with status: \u001b[39m\u001b[38;5;132;01m{\u001b[39;00mtask_status[\u001b[38;5;124m'\u001b[39m\u001b[38;5;124mstate\u001b[39m\u001b[38;5;124m'\u001b[39m]\u001b[38;5;132;01m}\u001b[39;00m\u001b[38;5;124m.\u001b[39m\u001b[38;5;124m\"\u001b[39m)\n",
      "\u001b[0;31mKeyboardInterrupt\u001b[0m: "
     ]
    }
   ],
   "source": [
    "landsat.download_data()"
   ]
  },
  {
   "cell_type": "code",
   "execution_count": null,
   "metadata": {},
   "outputs": [],
   "source": []
  },
  {
   "cell_type": "code",
   "execution_count": 8,
   "metadata": {},
   "outputs": [
    {
     "data": {
      "text/plain": [
       "4"
      ]
     },
     "execution_count": 8,
     "metadata": {},
     "output_type": "execute_result"
    }
   ],
   "source": [
    "len(landsat.images_data)"
   ]
  },
  {
   "cell_type": "code",
   "execution_count": 14,
   "metadata": {},
   "outputs": [
    {
     "data": {
      "text/plain": [
       "['DATA_SOURCE_ELEVATION',\n",
       " 'WRS_TYPE',\n",
       " 'REFLECTANCE_ADD_BAND_1',\n",
       " 'REFLECTANCE_ADD_BAND_2',\n",
       " 'DATUM',\n",
       " 'REFLECTANCE_ADD_BAND_3',\n",
       " 'REFLECTANCE_ADD_BAND_4',\n",
       " 'REFLECTANCE_ADD_BAND_5',\n",
       " 'REFLECTANCE_ADD_BAND_6',\n",
       " 'REFLECTANCE_ADD_BAND_7',\n",
       " 'system:footprint',\n",
       " 'REFLECTIVE_SAMPLES',\n",
       " 'GROUND_CONTROL_POINTS_VERSION',\n",
       " 'SUN_AZIMUTH',\n",
       " 'DATA_SOURCE_TIRS_STRAY_LIGHT_CORRECTION',\n",
       " 'UTM_ZONE',\n",
       " 'DATE_ACQUIRED',\n",
       " 'ELLIPSOID',\n",
       " 'system:time_end',\n",
       " 'DATA_SOURCE_PRESSURE',\n",
       " 'LANDSAT_PRODUCT_ID',\n",
       " 'STATION_ID',\n",
       " 'TEMPERATURE_ADD_BAND_ST_B10',\n",
       " 'DATA_SOURCE_REANALYSIS',\n",
       " 'REFLECTANCE_MULT_BAND_7',\n",
       " 'system:time_start',\n",
       " 'REFLECTANCE_MULT_BAND_6',\n",
       " 'L1_PROCESSING_LEVEL',\n",
       " 'PROCESSING_SOFTWARE_VERSION',\n",
       " 'L1_DATE_PRODUCT_GENERATED',\n",
       " 'ORIENTATION',\n",
       " 'REFLECTANCE_MULT_BAND_1',\n",
       " 'WRS_ROW',\n",
       " 'REFLECTANCE_MULT_BAND_3',\n",
       " 'REFLECTANCE_MULT_BAND_2',\n",
       " 'TARGET_WRS_ROW',\n",
       " 'REFLECTANCE_MULT_BAND_5',\n",
       " 'REFLECTANCE_MULT_BAND_4',\n",
       " 'THERMAL_LINES',\n",
       " 'TIRS_SSM_POSITION_STATUS',\n",
       " 'GRID_CELL_SIZE_THERMAL',\n",
       " 'IMAGE_QUALITY_TIRS',\n",
       " 'TRUNCATION_OLI',\n",
       " 'NADIR_OFFNADIR',\n",
       " 'CLOUD_COVER',\n",
       " 'REQUEST_ID',\n",
       " 'EARTH_SUN_DISTANCE',\n",
       " 'GEOMETRIC_RMSE_VERIFY',\n",
       " 'TIRS_SSM_MODEL',\n",
       " 'COLLECTION_CATEGORY',\n",
       " 'SCENE_CENTER_TIME',\n",
       " 'GRID_CELL_SIZE_REFLECTIVE',\n",
       " 'SUN_ELEVATION',\n",
       " 'ALGORITHM_SOURCE_SURFACE_TEMPERATURE',\n",
       " 'TEMPERATURE_MAXIMUM_BAND_ST_B10',\n",
       " 'CLOUD_COVER_LAND',\n",
       " 'GEOMETRIC_RMSE_MODEL',\n",
       " 'ROLL_ANGLE',\n",
       " 'COLLECTION_NUMBER',\n",
       " 'DATE_PRODUCT_GENERATED',\n",
       " 'L1_REQUEST_ID',\n",
       " 'DATA_SOURCE_OZONE',\n",
       " 'SATURATION_BAND_1',\n",
       " 'DATA_SOURCE_WATER_VAPOR',\n",
       " 'SATURATION_BAND_2',\n",
       " 'SATURATION_BAND_3',\n",
       " 'IMAGE_QUALITY_OLI',\n",
       " 'SATURATION_BAND_4',\n",
       " 'LANDSAT_SCENE_ID',\n",
       " 'SATURATION_BAND_5',\n",
       " 'MAP_PROJECTION',\n",
       " 'SATURATION_BAND_6',\n",
       " 'SENSOR_ID',\n",
       " 'SATURATION_BAND_7',\n",
       " 'SATURATION_BAND_8',\n",
       " 'WRS_PATH',\n",
       " 'SATURATION_BAND_9',\n",
       " 'TARGET_WRS_PATH',\n",
       " 'L1_PROCESSING_SOFTWARE_VERSION',\n",
       " 'TEMPERATURE_MULT_BAND_ST_B10',\n",
       " 'L1_LANDSAT_PRODUCT_ID',\n",
       " 'PROCESSING_LEVEL',\n",
       " 'ALGORITHM_SOURCE_SURFACE_REFLECTANCE',\n",
       " 'GROUND_CONTROL_POINTS_MODEL',\n",
       " 'SPACECRAFT_ID',\n",
       " 'TEMPERATURE_MINIMUM_BAND_ST_B10',\n",
       " 'GEOMETRIC_RMSE_MODEL_Y',\n",
       " 'REFLECTIVE_LINES',\n",
       " 'GEOMETRIC_RMSE_MODEL_X',\n",
       " 'THERMAL_SAMPLES',\n",
       " 'system:asset_size',\n",
       " 'DATA_SOURCE_AIR_TEMPERATURE',\n",
       " 'GROUND_CONTROL_POINTS_VERIFY',\n",
       " 'system:index']"
      ]
     },
     "execution_count": 14,
     "metadata": {},
     "output_type": "execute_result"
    }
   ],
   "source": [
    "list(landsat.images_data[0][\"metadata\"].keys())"
   ]
  },
  {
   "cell_type": "code",
   "execution_count": null,
   "metadata": {},
   "outputs": [],
   "source": []
  },
  {
   "cell_type": "code",
   "execution_count": null,
   "metadata": {},
   "outputs": [],
   "source": []
  },
  {
   "cell_type": "code",
   "execution_count": 9,
   "metadata": {},
   "outputs": [
    {
     "name": "stdout",
     "output_type": "stream",
     "text": [
      "9269\n",
      "9773\n",
      "10367\n",
      "10463\n",
      "23484\n",
      "16957\n",
      "12890\n",
      "100\n",
      "43813\n",
      "8407\n",
      "3270\n",
      "589\n",
      "9904\n",
      "251\n",
      "211\n",
      "8788\n",
      "1133\n",
      "21952\n",
      "0\n"
     ]
    }
   ],
   "source": [
    "for key in landsat.images_data[0][\"image_bands\"].keys():\n",
    "    print(landsat.images_data[0][\"image_bands\"][key].max())"
   ]
  },
  {
   "cell_type": "code",
   "execution_count": 15,
   "metadata": {},
   "outputs": [],
   "source": [
    "landsat.dn_to_reflectance()"
   ]
  },
  {
   "cell_type": "code",
   "execution_count": null,
   "metadata": {},
   "outputs": [],
   "source": [
    "landsat.images_data[0][\"image_bands\"].keys()"
   ]
  },
  {
   "cell_type": "code",
   "execution_count": 16,
   "metadata": {},
   "outputs": [
    {
     "name": "stdout",
     "output_type": "stream",
     "text": [
      "0.05489749999999999\n",
      "0.06873000000000001\n",
      "0.08509250000000002\n",
      "0.08773249999999999\n",
      "0.44581\n",
      "16957\n",
      "0.15447500000000003\n",
      "100\n",
      "43813\n",
      "8407\n",
      "3270\n",
      "589\n",
      "9904\n",
      "251\n",
      "211\n",
      "8788\n",
      "1133\n",
      "21952\n",
      "0\n"
     ]
    }
   ],
   "source": [
    "for key in landsat.images_data[0][\"image_bands\"].keys():\n",
    "    print(landsat.images_data[0][\"image_bands\"][key].max())"
   ]
  },
  {
   "cell_type": "code",
   "execution_count": 34,
   "metadata": {},
   "outputs": [
    {
     "data": {
      "image/png": "[encoded data removed]",
      "text/plain": [
       "<Figure size 640x480 with 1 Axes>"
      ]
     },
     "metadata": {},
     "output_type": "display_data"
    }
   ],
   "source": [
    "landsat.display_rgb(0, gamma =1.2, gain = 0.5)"
   ]
  },
  {
   "cell_type": "code",
   "execution_count": 54,
   "metadata": {},
   "outputs": [],
   "source": [
    "landsat.item_type = \"RGB\" # normalized difference water index"
   ]
  },
  {
   "cell_type": "code",
   "execution_count": 55,
   "metadata": {},
   "outputs": [],
   "source": [
    "img, meta = landsat[0]"
   ]
  },
  {
   "cell_type": "code",
   "execution_count": 56,
   "metadata": {},
   "outputs": [
    {
     "data": {
      "text/plain": [
       "(38, 38, 3)"
      ]
     },
     "execution_count": 56,
     "metadata": {},
     "output_type": "execute_result"
    }
   ],
   "source": [
    "img.shape"
   ]
  },
  {
   "cell_type": "code",
   "execution_count": 58,
   "metadata": {},
   "outputs": [
    {
     "data": {
      "text/plain": [
       "'/Users/kaaso/Documents/phd/coding/gge/data/location/bunaeset/POLYGON.shp'"
      ]
     },
     "execution_count": 58,
     "metadata": {},
     "output_type": "execute_result"
    }
   ],
   "source": []
  },
  {
   "cell_type": "code",
   "execution_count": 57,
   "metadata": {},
   "outputs": [
    {
     "data": {
      "text/plain": [
       "{'DATA_SOURCE_ELEVATION': 'GLS2000',\n",
       " 'WRS_TYPE': 2,\n",
       " 'REFLECTANCE_ADD_BAND_1': -0.2,\n",
       " 'REFLECTANCE_ADD_BAND_2': -0.2,\n",
       " 'DATUM': 'WGS84',\n",
       " 'REFLECTANCE_ADD_BAND_3': -0.2,\n",
       " 'REFLECTANCE_ADD_BAND_4': -0.2,\n",
       " 'REFLECTANCE_ADD_BAND_5': -0.2,\n",
       " 'REFLECTANCE_ADD_BAND_6': -0.2,\n",
       " 'REFLECTANCE_ADD_BAND_7': -0.2,\n",
       " 'system:footprint': {'type': 'LinearRing',\n",
       "  'coordinates': [[10.085875304184764, 61.18478903317145],\n",
       "   [10.083166178171103, 61.1848107710115],\n",
       "   [9.860338830318018, 60.83928967736951],\n",
       "   [9.098766542085736, 59.59536516520829],\n",
       "   [9.068902976180055, 59.54365868247191],\n",
       "   [9.05015960313442, 59.510166482059276],\n",
       "   [9.069404534334728, 59.50719260070751],\n",
       "   [11.906619643355876, 59.035521609340705],\n",
       "   [12.174259534882868, 58.98712757509583],\n",
       "   [12.178492137435793, 58.9931866327434],\n",
       "   [12.264619207237747, 59.11911454350514],\n",
       "   [12.322154338658732, 59.202801283941085],\n",
       "   [12.58573865830846, 59.580917647650466],\n",
       "   [12.614201497174047, 59.621294245812486],\n",
       "   [12.866089501047378, 59.97477064877432],\n",
       "   [12.99266884551129, 60.149378111531604],\n",
       "   [13.035535785221732, 60.208116532247836],\n",
       "   [13.215029469271268, 60.45228258235512],\n",
       "   [13.357620801420804, 60.644833297906544],\n",
       "   [12.89643843368815, 60.72689645763213],\n",
       "   [10.962438909574757, 61.04963295053546],\n",
       "   [10.085875304184764, 61.18478903317145]]},\n",
       " 'REFLECTIVE_SAMPLES': 8001,\n",
       " 'GROUND_CONTROL_POINTS_VERSION': 5,\n",
       " 'SUN_AZIMUTH': 163.10393235,\n",
       " 'DATA_SOURCE_TIRS_STRAY_LIGHT_CORRECTION': 'TIRS',\n",
       " 'UTM_ZONE': 32,\n",
       " 'DATE_ACQUIRED': '2024-05-16',\n",
       " 'ELLIPSOID': 'WGS84',\n",
       " 'system:time_end': 1715855064402,\n",
       " 'DATA_SOURCE_PRESSURE': 'Calculated',\n",
       " 'LANDSAT_PRODUCT_ID': 'LC08_L2SP_197018_20240516_20240521_02_T1',\n",
       " 'STATION_ID': 'LGN',\n",
       " 'TEMPERATURE_ADD_BAND_ST_B10': 149,\n",
       " 'DATA_SOURCE_REANALYSIS': 'GEOS-5 IT',\n",
       " 'REFLECTANCE_MULT_BAND_7': 2.75e-05,\n",
       " 'system:time_start': 1715855064402,\n",
       " 'REFLECTANCE_MULT_BAND_6': 2.75e-05,\n",
       " 'L1_PROCESSING_LEVEL': 'L1TP',\n",
       " 'PROCESSING_SOFTWARE_VERSION': 'LPGS_16.4.0',\n",
       " 'L1_DATE_PRODUCT_GENERATED': '2024-05-21T04:56:33Z',\n",
       " 'ORIENTATION': 'NORTH_UP',\n",
       " 'REFLECTANCE_MULT_BAND_1': 2.75e-05,\n",
       " 'WRS_ROW': 18,\n",
       " 'REFLECTANCE_MULT_BAND_3': 2.75e-05,\n",
       " 'REFLECTANCE_MULT_BAND_2': 2.75e-05,\n",
       " 'TARGET_WRS_ROW': 18,\n",
       " 'REFLECTANCE_MULT_BAND_5': 2.75e-05,\n",
       " 'REFLECTANCE_MULT_BAND_4': 2.75e-05,\n",
       " 'THERMAL_LINES': 8081,\n",
       " 'TIRS_SSM_POSITION_STATUS': 'ESTIMATED',\n",
       " 'GRID_CELL_SIZE_THERMAL': 30,\n",
       " 'IMAGE_QUALITY_TIRS': 9,\n",
       " 'TRUNCATION_OLI': 'UPPER',\n",
       " 'NADIR_OFFNADIR': 'NADIR',\n",
       " 'CLOUD_COVER': 4.49,\n",
       " 'REQUEST_ID': '1888449_00009',\n",
       " 'EARTH_SUN_DISTANCE': 1.0111526,\n",
       " 'GEOMETRIC_RMSE_VERIFY': 4.445,\n",
       " 'TIRS_SSM_MODEL': 'FINAL',\n",
       " 'COLLECTION_CATEGORY': 'T1',\n",
       " 'SCENE_CENTER_TIME': '10:24:24.4025750Z',\n",
       " 'GRID_CELL_SIZE_REFLECTIVE': 30,\n",
       " 'SUN_ELEVATION': 48.30290894,\n",
       " 'ALGORITHM_SOURCE_SURFACE_TEMPERATURE': 'st_1.5.0',\n",
       " 'TEMPERATURE_MAXIMUM_BAND_ST_B10': 372.999941,\n",
       " 'CLOUD_COVER_LAND': 4.5,\n",
       " 'GEOMETRIC_RMSE_MODEL': 7.29,\n",
       " 'ROLL_ANGLE': -0.001,\n",
       " 'COLLECTION_NUMBER': 2,\n",
       " 'DATE_PRODUCT_GENERATED': 1716268894000,\n",
       " 'L1_REQUEST_ID': '1888449_00009',\n",
       " 'DATA_SOURCE_OZONE': 'VIIRS',\n",
       " 'SATURATION_BAND_1': 'Y',\n",
       " 'DATA_SOURCE_WATER_VAPOR': 'VIIRS',\n",
       " 'SATURATION_BAND_2': 'Y',\n",
       " 'SATURATION_BAND_3': 'Y',\n",
       " 'IMAGE_QUALITY_OLI': 9,\n",
       " 'SATURATION_BAND_4': 'Y',\n",
       " 'LANDSAT_SCENE_ID': 'LC81970182024137LGN00',\n",
       " 'SATURATION_BAND_5': 'Y',\n",
       " 'MAP_PROJECTION': 'UTM',\n",
       " 'SATURATION_BAND_6': 'Y',\n",
       " 'SENSOR_ID': 'OLI_TIRS',\n",
       " 'SATURATION_BAND_7': 'Y',\n",
       " 'SATURATION_BAND_8': 'N',\n",
       " 'WRS_PATH': 197,\n",
       " 'SATURATION_BAND_9': 'N',\n",
       " 'TARGET_WRS_PATH': 197,\n",
       " 'L1_PROCESSING_SOFTWARE_VERSION': 'LPGS_16.4.0',\n",
       " 'TEMPERATURE_MULT_BAND_ST_B10': 0.00341802,\n",
       " 'L1_LANDSAT_PRODUCT_ID': 'LC08_L1TP_197018_20240516_20240521_02_T1',\n",
       " 'PROCESSING_LEVEL': 'L2SP',\n",
       " 'ALGORITHM_SOURCE_SURFACE_REFLECTANCE': 'LaSRC_1.6.0',\n",
       " 'GROUND_CONTROL_POINTS_MODEL': 1271,\n",
       " 'SPACECRAFT_ID': 'LANDSAT_8',\n",
       " 'TEMPERATURE_MINIMUM_BAND_ST_B10': 149.003418,\n",
       " 'GEOMETRIC_RMSE_MODEL_Y': 5.449,\n",
       " 'REFLECTIVE_LINES': 8081,\n",
       " 'GEOMETRIC_RMSE_MODEL_X': 4.843,\n",
       " 'THERMAL_SAMPLES': 8001,\n",
       " 'system:asset_size': 1008641815,\n",
       " 'DATA_SOURCE_AIR_TEMPERATURE': 'VIIRS',\n",
       " 'GROUND_CONTROL_POINTS_VERIFY': 187,\n",
       " 'system:index': 'LC08_197018_20240516'}"
      ]
     },
     "execution_count": 57,
     "metadata": {},
     "output_type": "execute_result"
    }
   ],
   "source": [
    "meta"
   ]
  },
  {
   "cell_type": "code",
   "execution_count": 47,
   "metadata": {},
   "outputs": [
    {
     "data": {
      "image/png": "[encoded data removed]",
      "text/plain": [
       "<Figure size 640x480 with 2 Axes>"
      ]
     },
     "metadata": {},
     "output_type": "display_data"
    }
   ],
   "source": [
    "import matplotlib.pyplot as plt\n",
    "import matplotlib.colors as mcolors\n",
    "import numpy as np\n",
    "\n",
    "img, meta = landsat[2]\n",
    "\n",
    "# Define a custom normalization class to emphasize differences\n",
    "class MidpointNormalize(mcolors.Normalize):\n",
    "    def __init__(self, vmin=None, vmax=None, midpoint=0, clip=False):\n",
    "        self.midpoint = midpoint\n",
    "        mcolors.Normalize.__init__(self, vmin, vmax, clip)\n",
    "\n",
    "    def __call__(self, value, clip=None):\n",
    "        x, y = [self.vmin, self.midpoint, self.vmax], [0, 0.5, 1]\n",
    "        return np.ma.masked_array(np.interp(value, x, y), np.isnan(value))\n",
    "\n",
    "# Create a custom color map\n",
    "cmap = mcolors.LinearSegmentedColormap.from_list(\n",
    "    \"ndwi\", [\"brown\", \"lightyellow\", \"blue\"], N=256)\n",
    "\n",
    "# Create a normalized color bar for the NDWI range\n",
    "norm = MidpointNormalize(vmin=-1, vmax=1, midpoint=0)\n",
    "\n",
    "# Plot the image\n",
    "fig, ax = plt.subplots()\n",
    "cax = ax.imshow(img, cmap=cmap, norm=norm)\n",
    "\n",
    "\n",
    "# Create a color bar\n",
    "cbar = fig.colorbar(cax, ax=ax, orientation='vertical', fraction=0.046, pad=0.03)\n",
    "cbar.set_label('NDWI')\n",
    "\n",
    "# Add labels to the color bar\n",
    "cbar.set_ticks([-1, 0, 0.3, 1])\n",
    "cbar.set_ticklabels(['-1 (No Vegetation/Water)', '0', '0.3', '1 (Water Content)'])\n",
    "\n",
    "plt.show()\n"
   ]
  },
  {
   "cell_type": "code",
   "execution_count": null,
   "metadata": {},
   "outputs": [],
   "source": []
  },
  {
   "cell_type": "code",
   "execution_count": null,
   "metadata": {},
   "outputs": [],
   "source": [
    "import matplotlib.pyplot as plt\n",
    "import matplotlib.colors as mcolors\n",
    "import numpy as np\n",
    "\n",
    "img1, meta = landsat[50]\n",
    "img2, meta = landsat[51]\n",
    "img = img1 - img2\n",
    "\n",
    "# Define a custom normalization class to emphasize differences\n",
    "class MidpointNormalize(mcolors.Normalize):\n",
    "    def __init__(self, vmin=None, vmax=None, midpoint=0, clip=False):\n",
    "        self.midpoint = midpoint\n",
    "        mcolors.Normalize.__init__(self, vmin, vmax, clip)\n",
    "\n",
    "    def __call__(self, value, clip=None):\n",
    "        x, y = [self.vmin, self.midpoint, self.vmax], [0, 0.5, 1]\n",
    "        return np.ma.masked_array(np.interp(value, x, y), np.isnan(value))\n",
    "\n",
    "# Create a custom color map\n",
    "cmap = mcolors.LinearSegmentedColormap.from_list(\n",
    "    \"ndwi\", [\"brown\", \"lightyellow\", \"blue\"], N=256)\n",
    "\n",
    "# Create a normalized color bar for the NDWI range\n",
    "norm = MidpointNormalize(vmin=-1, vmax=1, midpoint=0)\n",
    "\n",
    "# Plot the image\n",
    "fig, ax = plt.subplots()\n",
    "cax = ax.imshow(img, cmap=cmap, norm=norm)\n",
    "\n",
    "\n",
    "# Create a color bar\n",
    "cbar = fig.colorbar(cax, ax=ax, orientation='vertical', fraction=0.046, pad=0.03)\n",
    "cbar.set_label('NDWI')\n",
    "\n",
    "# Add labels to the color bar\n",
    "cbar.set_ticks([-1, 0, 0.3, 1])\n",
    "cbar.set_ticklabels(['-1 (No Vegetation/Water)', '0', '0.3', '1 (Water Content)'])\n",
    "\n",
    "plt.show()\n"
   ]
  },
  {
   "cell_type": "code",
   "execution_count": null,
   "metadata": {},
   "outputs": [],
   "source": [
    "# we could also use a single band, or another indices\n",
    "landsat.item_type = \"SR_B4\""
   ]
  },
  {
   "cell_type": "markdown",
   "metadata": {},
   "source": [
    "ndwi for begge billeder"
   ]
  },
  {
   "cell_type": "code",
   "execution_count": null,
   "metadata": {},
   "outputs": [],
   "source": [
    "NWDIs = {}\n",
    "for i in range(len(landsat)):\n",
    "    img, meta = landsat[i]\n",
    "    if i not in NWDIs:  # Check if the key does not exist\n",
    "        NWDIs[i] = {}  # Initialize it as an empty dictionary\n",
    "    NWDIs[i][\"NDWI\"] = img\n",
    "    NWDIs[i][\"time\"] = meta[\"L1_DATE_PRODUCT_GENERATED\"]\n",
    "    NWDIs[i][\"metadata\"] = meta"
   ]
  },
  {
   "cell_type": "code",
   "execution_count": null,
   "metadata": {},
   "outputs": [],
   "source": [
    "len(NWDIs)"
   ]
  },
  {
   "cell_type": "code",
   "execution_count": null,
   "metadata": {},
   "outputs": [],
   "source": [
    "NWDIs[0][\"NDWI\"]"
   ]
  },
  {
   "cell_type": "code",
   "execution_count": null,
   "metadata": {},
   "outputs": [],
   "source": [
    "\n",
    "# Assuming NWDIs is a list of dictionaries and each dictionary has an \"NDWI\" key with an array\n",
    "arrays = [NWDIs[i][\"NDWI\"] for i in range(33, 65) if NWDIs[i][\"NDWI\"].shape == NWDIs[0][\"NDWI\"].shape]\n",
    "\n",
    "# Stack arrays along a new axis to create a single array of shape (60, N, M)\n",
    "combined_array = np.stack(arrays, axis=0)\n",
    "\n",
    "# combined_array now has shape (60, N, M)"
   ]
  },
  {
   "cell_type": "code",
   "execution_count": null,
   "metadata": {},
   "outputs": [],
   "source": [
    "np.save(\"../data/ndwi_stack_test.npy\", combined_array)"
   ]
  },
  {
   "cell_type": "code",
   "execution_count": null,
   "metadata": {},
   "outputs": [],
   "source": []
  }
 ],
 "metadata": {
  "kernelspec": {
   "display_name": "gge_test",
   "language": "python",
   "name": "python3"
  },
  "language_info": {
   "codemirror_mode": {
    "name": "ipython",
    "version": 3
   },
   "file_extension": ".py",
   "mimetype": "text/x-python",
   "name": "python",
   "nbconvert_exporter": "python",
   "pygments_lexer": "ipython3",
   "version": "3.10.14"
  }
 },
 "nbformat": 4,
 "nbformat_minor": 2
}
